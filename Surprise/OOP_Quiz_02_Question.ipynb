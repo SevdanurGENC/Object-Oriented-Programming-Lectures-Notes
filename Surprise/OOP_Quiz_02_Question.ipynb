{
  "nbformat": 4,
  "nbformat_minor": 0,
  "metadata": {
    "colab": {
      "provenance": []
    },
    "kernelspec": {
      "name": "python3",
      "display_name": "Python 3"
    },
    "language_info": {
      "name": "python"
    }
  },
  "cells": [
    {
      "cell_type": "markdown",
      "source": [
        "1. Abstract (Soyut Sınıflar ve Metotlar)\n",
        "\n",
        "Soru:\n",
        "\n",
        "Bir Shape adlı soyut sınıf oluşturun. Bu sınıfta bir calculate_area() adlı soyut metot tanımlayın. Ardından, Rectangle (Dikdörtgen) ve Circle (Daire) adlı sınıfları oluşturup Shape sınıfından türetin. Her bir sınıfta calculate_area() metodunu override (ezerek) kullanarak alan hesaplamasını gerçekleştirin. Son olarak, birer nesne oluşturup alanlarını ekrana yazdırın."
      ],
      "metadata": {
        "id": "HNppuqo8YTwl"
      }
    },
    {
      "cell_type": "code",
      "execution_count": 2,
      "metadata": {
        "id": "8FJ4IRI0YQKT"
      },
      "outputs": [],
      "source": [
        "\n",
        "\n",
        "\n",
        "\n",
        "\n",
        "\n",
        "\n"
      ]
    },
    {
      "cell_type": "code",
      "source": [
        "\n",
        "\n",
        "\n",
        "\n",
        "\n"
      ],
      "metadata": {
        "colab": {
          "base_uri": "https://localhost:8080/"
        },
        "id": "gsxrPEJFYlYg",
        "outputId": "97e53dbb-a319-48e7-cb51-811caa31853d"
      },
      "execution_count": 3,
      "outputs": [
        {
          "output_type": "stream",
          "name": "stdout",
          "text": [
            "Rectangle Area: 50\n",
            "Circle Area: 153.93804002589985\n"
          ]
        }
      ]
    },
    {
      "cell_type": "markdown",
      "source": [
        "2. Inheritance (Kalıtım)\n",
        "\n",
        "Soru:\n",
        "\n",
        "Bir Person sınıfı oluşturun. Bu sınıfta name ve age adlı özellikler ve bir introduce() metodu bulunsun. Ardından Employee adında bir sınıf oluşturup Person sınıfından türetin. Employee sınıfına job_title (meslek) adlı bir özellik ekleyin ve introduce() metodunu override ederek kişinin ismini, yaşını ve mesleğini ekrana yazdırmasını sağlayın. Son olarak, bir Employee nesnesi oluşturup introduce() metodunu kullanın."
      ],
      "metadata": {
        "id": "Z_Xys35aYhWI"
      }
    },
    {
      "cell_type": "code",
      "source": [
        "\n",
        "\n",
        "\n",
        "\n",
        "\n",
        "\n",
        ""
      ],
      "metadata": {
        "id": "BrWWBtQTYcNs"
      },
      "execution_count": 4,
      "outputs": []
    },
    {
      "cell_type": "code",
      "source": [
        "\n",
        "\n",
        "\n",
        "\n",
        "\n"
      ],
      "metadata": {
        "colab": {
          "base_uri": "https://localhost:8080/"
        },
        "id": "Nd_ImQ0iYcYU",
        "outputId": "8a1aec97-4cae-40f0-9aa9-6b3a434abe2b"
      },
      "execution_count": 5,
      "outputs": [
        {
          "output_type": "stream",
          "name": "stdout",
          "text": [
            "Hi, my name is Alice, I am 30 years old, and I work as a Software Engineer.\n"
          ]
        }
      ]
    },
    {
      "cell_type": "markdown",
      "source": [
        "3. Polymorphism (Çok Biçimlilik)\n",
        "\n",
        "Soru:\n",
        "\n",
        "Bir Animal adlı sınıf oluşturun. Bu sınıfta speak() adlı bir metot tanımlayın. Ardından Dog ve Cat adlı sınıfları oluşturup Animal sınıfından türetin. Her bir alt sınıfta speak() metodunu override ederek köpek için \"Woof!\" ve kedi için \"Meow!\" çıktısını verin. Son olarak, bir Animal listesi oluşturup polimorfizmi kullanarak her bir hayvanın speak() metodunu çağırın.\n",
        "\n"
      ],
      "metadata": {
        "id": "BEQ4RJTfYsoD"
      }
    },
    {
      "cell_type": "code",
      "source": [
        "\n",
        "\n",
        "\n",
        "\n",
        "\n",
        "\n",
        "\n"
      ],
      "metadata": {
        "id": "AyUVkfG2Ycgc"
      },
      "execution_count": 6,
      "outputs": []
    },
    {
      "cell_type": "code",
      "source": [
        "\n",
        "\n",
        "\n",
        "\n",
        "\n",
        "\n",
        "\n",
        "\n",
        "\n",
        "\n",
        "\n"
      ],
      "metadata": {
        "colab": {
          "base_uri": "https://localhost:8080/"
        },
        "id": "lIdt3zAXYcjK",
        "outputId": "6b6ea97d-4587-4cc6-836d-212a61d29c76"
      },
      "execution_count": 7,
      "outputs": [
        {
          "output_type": "stream",
          "name": "stdout",
          "text": [
            "Woof!\n",
            "Meow!\n",
            "Woof!\n",
            "Meow!\n"
          ]
        }
      ]
    }
  ]
}